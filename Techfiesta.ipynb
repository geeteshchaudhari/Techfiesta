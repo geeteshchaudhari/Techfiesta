{
  "cells": [
    {
      "cell_type": "code",
      "execution_count": 81,
      "metadata": {
        "id": "xIhOc6fsWOFd"
      },
      "outputs": [],
      "source": [
        "import pandas as pd\n",
        "from sklearn.metrics import mean_squared_error\n",
        "data=pd.read_csv(\"/content/jalgaon_avg.csv\",index_col=0)\n",
        "y=data[\"SEASMUM HARVEST PRICE (Rs per Quintal)\"]\n",
        "X=data[[\"Year\",\"SESAMUM YIELD (Kg per ha)\",\"Maximum_average rainfall\",\"Medium_average rainfall\",\"Minimum_average rainfall\",\"Maximum_average min temp\",\"Medium_average min temp\",\"Minimum_average min temp\",\"Maximum_average max temp\",\"Medium_average max temp\",\"Minimum_average max temp\"]]"
      ]
    },
    {
      "cell_type": "code",
      "source": [
        "data.head()"
      ],
      "metadata": {
        "colab": {
          "base_uri": "https://localhost:8080/",
          "height": 342
        },
        "id": "Uw62KMOHVW4D",
        "outputId": "1db1a930-9f74-4357-8610-dedfd4c5115f"
      },
      "execution_count": 82,
      "outputs": [
        {
          "output_type": "execute_result",
          "data": {
            "text/plain": [
              "      Year Dist Name  RICE HARVEST PRICE (Rs per Quintal)  \\\n",
              "2143  1990   Jalgaon                                    0   \n",
              "2144  1991   Jalgaon                                    0   \n",
              "2145  1992   Jalgaon                                    0   \n",
              "2146  1993   Jalgaon                                    0   \n",
              "2147  1994   Jalgaon                                    0   \n",
              "\n",
              "      PADDY HARVEST PRICE (Rs per Quintal)  \\\n",
              "2143                                     0   \n",
              "2144                                     0   \n",
              "2145                                     0   \n",
              "2146                                     0   \n",
              "2147                                   403   \n",
              "\n",
              "      WHEAT HARVEST PRICE (Rs per Quintal)  \\\n",
              "2143                                   308   \n",
              "2144                                   431   \n",
              "2145                                   379   \n",
              "2146                                   403   \n",
              "2147                                   439   \n",
              "\n",
              "      SORGHUM HARVEST PRICE (Rs per Quintal)  \\\n",
              "2143                                     188   \n",
              "2144                                     352   \n",
              "2145                                     288   \n",
              "2146                                     335   \n",
              "2147                                     311   \n",
              "\n",
              "      PEARL MILLET HARVEST PRICE (Rs per Quintal)  \\\n",
              "2143                                          215   \n",
              "2144                                          329   \n",
              "2145                                          239   \n",
              "2146                                          306   \n",
              "2147                                          320   \n",
              "\n",
              "      MAIZE HARVEST PRICE (Rs per Quintal)  \\\n",
              "2143                                     0   \n",
              "2144                                     0   \n",
              "2145                                     0   \n",
              "2146                                     0   \n",
              "2147                                   281   \n",
              "\n",
              "      FINGER MILLET HARVEST PRICE (Rs per Quintal)  \\\n",
              "2143                                             0   \n",
              "2144                                             0   \n",
              "2145                                             0   \n",
              "2146                                             0   \n",
              "2147                                             0   \n",
              "\n",
              "      BARLEY HARVEST PRICE (Rs per Quintal)  ...  FODDER AREA (1000 ha)  \\\n",
              "2143                                      0  ...                    6.1   \n",
              "2144                                      0  ...                    2.0   \n",
              "2145                                      0  ...                    2.2   \n",
              "2146                                      0  ...                    1.8   \n",
              "2147                                      0  ...                    2.3   \n",
              "\n",
              "      Maximum_average rainfall  Medium_average rainfall  \\\n",
              "2143                  204.0625                  19.1275   \n",
              "2144                  118.2625                   3.0000   \n",
              "2145                  155.3750                   8.3750   \n",
              "2146                  175.8000                  21.3100   \n",
              "2147                  227.3550                  11.8775   \n",
              "\n",
              "      Minimum_average rainfall  Maximum_average min temp  \\\n",
              "2143                   14.1775                   23.5775   \n",
              "2144                    2.1325                   24.6100   \n",
              "2145                    4.4950                   24.8125   \n",
              "2146                    2.8100                   24.8050   \n",
              "2147                    4.3250                   24.1850   \n",
              "\n",
              "      Medium_average min temp  Minimum_average min temp  \\\n",
              "2143                  20.5725                   16.3775   \n",
              "2144                  20.4375                   15.9250   \n",
              "2145                  20.6675                   15.9250   \n",
              "2146                  20.6200                   16.4425   \n",
              "2147                  19.8050                   16.2225   \n",
              "\n",
              "      Maximum_average max temp  Medium_average max temp  \\\n",
              "2143                   38.0600                  32.6350   \n",
              "2144                   39.3175                  32.5275   \n",
              "2145                   39.5775                  31.7375   \n",
              "2146                   39.2250                  32.4275   \n",
              "2147                   39.0700                  32.1900   \n",
              "\n",
              "      Minimum_average max temp  \n",
              "2143                   30.5775  \n",
              "2144                   30.9675  \n",
              "2145                   31.2175  \n",
              "2146                   30.8225  \n",
              "2147                   30.1975  \n",
              "\n",
              "[5 rows x 103 columns]"
            ],
            "text/html": [
              "\n",
              "  <div id=\"df-2ef041fa-8f71-4db9-aa79-8a2cbce0ce76\" class=\"colab-df-container\">\n",
              "    <div>\n",
              "<style scoped>\n",
              "    .dataframe tbody tr th:only-of-type {\n",
              "        vertical-align: middle;\n",
              "    }\n",
              "\n",
              "    .dataframe tbody tr th {\n",
              "        vertical-align: top;\n",
              "    }\n",
              "\n",
              "    .dataframe thead th {\n",
              "        text-align: right;\n",
              "    }\n",
              "</style>\n",
              "<table border=\"1\" class=\"dataframe\">\n",
              "  <thead>\n",
              "    <tr style=\"text-align: right;\">\n",
              "      <th></th>\n",
              "      <th>Year</th>\n",
              "      <th>Dist Name</th>\n",
              "      <th>RICE HARVEST PRICE (Rs per Quintal)</th>\n",
              "      <th>PADDY HARVEST PRICE (Rs per Quintal)</th>\n",
              "      <th>WHEAT HARVEST PRICE (Rs per Quintal)</th>\n",
              "      <th>SORGHUM HARVEST PRICE (Rs per Quintal)</th>\n",
              "      <th>PEARL MILLET HARVEST PRICE (Rs per Quintal)</th>\n",
              "      <th>MAIZE HARVEST PRICE (Rs per Quintal)</th>\n",
              "      <th>FINGER MILLET HARVEST PRICE (Rs per Quintal)</th>\n",
              "      <th>BARLEY HARVEST PRICE (Rs per Quintal)</th>\n",
              "      <th>...</th>\n",
              "      <th>FODDER AREA (1000 ha)</th>\n",
              "      <th>Maximum_average rainfall</th>\n",
              "      <th>Medium_average rainfall</th>\n",
              "      <th>Minimum_average rainfall</th>\n",
              "      <th>Maximum_average min temp</th>\n",
              "      <th>Medium_average min temp</th>\n",
              "      <th>Minimum_average min temp</th>\n",
              "      <th>Maximum_average max temp</th>\n",
              "      <th>Medium_average max temp</th>\n",
              "      <th>Minimum_average max temp</th>\n",
              "    </tr>\n",
              "  </thead>\n",
              "  <tbody>\n",
              "    <tr>\n",
              "      <th>2143</th>\n",
              "      <td>1990</td>\n",
              "      <td>Jalgaon</td>\n",
              "      <td>0</td>\n",
              "      <td>0</td>\n",
              "      <td>308</td>\n",
              "      <td>188</td>\n",
              "      <td>215</td>\n",
              "      <td>0</td>\n",
              "      <td>0</td>\n",
              "      <td>0</td>\n",
              "      <td>...</td>\n",
              "      <td>6.1</td>\n",
              "      <td>204.0625</td>\n",
              "      <td>19.1275</td>\n",
              "      <td>14.1775</td>\n",
              "      <td>23.5775</td>\n",
              "      <td>20.5725</td>\n",
              "      <td>16.3775</td>\n",
              "      <td>38.0600</td>\n",
              "      <td>32.6350</td>\n",
              "      <td>30.5775</td>\n",
              "    </tr>\n",
              "    <tr>\n",
              "      <th>2144</th>\n",
              "      <td>1991</td>\n",
              "      <td>Jalgaon</td>\n",
              "      <td>0</td>\n",
              "      <td>0</td>\n",
              "      <td>431</td>\n",
              "      <td>352</td>\n",
              "      <td>329</td>\n",
              "      <td>0</td>\n",
              "      <td>0</td>\n",
              "      <td>0</td>\n",
              "      <td>...</td>\n",
              "      <td>2.0</td>\n",
              "      <td>118.2625</td>\n",
              "      <td>3.0000</td>\n",
              "      <td>2.1325</td>\n",
              "      <td>24.6100</td>\n",
              "      <td>20.4375</td>\n",
              "      <td>15.9250</td>\n",
              "      <td>39.3175</td>\n",
              "      <td>32.5275</td>\n",
              "      <td>30.9675</td>\n",
              "    </tr>\n",
              "    <tr>\n",
              "      <th>2145</th>\n",
              "      <td>1992</td>\n",
              "      <td>Jalgaon</td>\n",
              "      <td>0</td>\n",
              "      <td>0</td>\n",
              "      <td>379</td>\n",
              "      <td>288</td>\n",
              "      <td>239</td>\n",
              "      <td>0</td>\n",
              "      <td>0</td>\n",
              "      <td>0</td>\n",
              "      <td>...</td>\n",
              "      <td>2.2</td>\n",
              "      <td>155.3750</td>\n",
              "      <td>8.3750</td>\n",
              "      <td>4.4950</td>\n",
              "      <td>24.8125</td>\n",
              "      <td>20.6675</td>\n",
              "      <td>15.9250</td>\n",
              "      <td>39.5775</td>\n",
              "      <td>31.7375</td>\n",
              "      <td>31.2175</td>\n",
              "    </tr>\n",
              "    <tr>\n",
              "      <th>2146</th>\n",
              "      <td>1993</td>\n",
              "      <td>Jalgaon</td>\n",
              "      <td>0</td>\n",
              "      <td>0</td>\n",
              "      <td>403</td>\n",
              "      <td>335</td>\n",
              "      <td>306</td>\n",
              "      <td>0</td>\n",
              "      <td>0</td>\n",
              "      <td>0</td>\n",
              "      <td>...</td>\n",
              "      <td>1.8</td>\n",
              "      <td>175.8000</td>\n",
              "      <td>21.3100</td>\n",
              "      <td>2.8100</td>\n",
              "      <td>24.8050</td>\n",
              "      <td>20.6200</td>\n",
              "      <td>16.4425</td>\n",
              "      <td>39.2250</td>\n",
              "      <td>32.4275</td>\n",
              "      <td>30.8225</td>\n",
              "    </tr>\n",
              "    <tr>\n",
              "      <th>2147</th>\n",
              "      <td>1994</td>\n",
              "      <td>Jalgaon</td>\n",
              "      <td>0</td>\n",
              "      <td>403</td>\n",
              "      <td>439</td>\n",
              "      <td>311</td>\n",
              "      <td>320</td>\n",
              "      <td>281</td>\n",
              "      <td>0</td>\n",
              "      <td>0</td>\n",
              "      <td>...</td>\n",
              "      <td>2.3</td>\n",
              "      <td>227.3550</td>\n",
              "      <td>11.8775</td>\n",
              "      <td>4.3250</td>\n",
              "      <td>24.1850</td>\n",
              "      <td>19.8050</td>\n",
              "      <td>16.2225</td>\n",
              "      <td>39.0700</td>\n",
              "      <td>32.1900</td>\n",
              "      <td>30.1975</td>\n",
              "    </tr>\n",
              "  </tbody>\n",
              "</table>\n",
              "<p>5 rows × 103 columns</p>\n",
              "</div>\n",
              "    <div class=\"colab-df-buttons\">\n",
              "\n",
              "  <div class=\"colab-df-container\">\n",
              "    <button class=\"colab-df-convert\" onclick=\"convertToInteractive('df-2ef041fa-8f71-4db9-aa79-8a2cbce0ce76')\"\n",
              "            title=\"Convert this dataframe to an interactive table.\"\n",
              "            style=\"display:none;\">\n",
              "\n",
              "  <svg xmlns=\"http://www.w3.org/2000/svg\" height=\"24px\" viewBox=\"0 -960 960 960\">\n",
              "    <path d=\"M120-120v-720h720v720H120Zm60-500h600v-160H180v160Zm220 220h160v-160H400v160Zm0 220h160v-160H400v160ZM180-400h160v-160H180v160Zm440 0h160v-160H620v160ZM180-180h160v-160H180v160Zm440 0h160v-160H620v160Z\"/>\n",
              "  </svg>\n",
              "    </button>\n",
              "\n",
              "  <style>\n",
              "    .colab-df-container {\n",
              "      display:flex;\n",
              "      gap: 12px;\n",
              "    }\n",
              "\n",
              "    .colab-df-convert {\n",
              "      background-color: #E8F0FE;\n",
              "      border: none;\n",
              "      border-radius: 50%;\n",
              "      cursor: pointer;\n",
              "      display: none;\n",
              "      fill: #1967D2;\n",
              "      height: 32px;\n",
              "      padding: 0 0 0 0;\n",
              "      width: 32px;\n",
              "    }\n",
              "\n",
              "    .colab-df-convert:hover {\n",
              "      background-color: #E2EBFA;\n",
              "      box-shadow: 0px 1px 2px rgba(60, 64, 67, 0.3), 0px 1px 3px 1px rgba(60, 64, 67, 0.15);\n",
              "      fill: #174EA6;\n",
              "    }\n",
              "\n",
              "    .colab-df-buttons div {\n",
              "      margin-bottom: 4px;\n",
              "    }\n",
              "\n",
              "    [theme=dark] .colab-df-convert {\n",
              "      background-color: #3B4455;\n",
              "      fill: #D2E3FC;\n",
              "    }\n",
              "\n",
              "    [theme=dark] .colab-df-convert:hover {\n",
              "      background-color: #434B5C;\n",
              "      box-shadow: 0px 1px 3px 1px rgba(0, 0, 0, 0.15);\n",
              "      filter: drop-shadow(0px 1px 2px rgba(0, 0, 0, 0.3));\n",
              "      fill: #FFFFFF;\n",
              "    }\n",
              "  </style>\n",
              "\n",
              "    <script>\n",
              "      const buttonEl =\n",
              "        document.querySelector('#df-2ef041fa-8f71-4db9-aa79-8a2cbce0ce76 button.colab-df-convert');\n",
              "      buttonEl.style.display =\n",
              "        google.colab.kernel.accessAllowed ? 'block' : 'none';\n",
              "\n",
              "      async function convertToInteractive(key) {\n",
              "        const element = document.querySelector('#df-2ef041fa-8f71-4db9-aa79-8a2cbce0ce76');\n",
              "        const dataTable =\n",
              "          await google.colab.kernel.invokeFunction('convertToInteractive',\n",
              "                                                    [key], {});\n",
              "        if (!dataTable) return;\n",
              "\n",
              "        const docLinkHtml = 'Like what you see? Visit the ' +\n",
              "          '<a target=\"_blank\" href=https://colab.research.google.com/notebooks/data_table.ipynb>data table notebook</a>'\n",
              "          + ' to learn more about interactive tables.';\n",
              "        element.innerHTML = '';\n",
              "        dataTable['output_type'] = 'display_data';\n",
              "        await google.colab.output.renderOutput(dataTable, element);\n",
              "        const docLink = document.createElement('div');\n",
              "        docLink.innerHTML = docLinkHtml;\n",
              "        element.appendChild(docLink);\n",
              "      }\n",
              "    </script>\n",
              "  </div>\n",
              "\n",
              "\n",
              "<div id=\"df-99601415-9ac3-4fcc-850e-61a531a6eee9\">\n",
              "  <button class=\"colab-df-quickchart\" onclick=\"quickchart('df-99601415-9ac3-4fcc-850e-61a531a6eee9')\"\n",
              "            title=\"Suggest charts\"\n",
              "            style=\"display:none;\">\n",
              "\n",
              "<svg xmlns=\"http://www.w3.org/2000/svg\" height=\"24px\"viewBox=\"0 0 24 24\"\n",
              "     width=\"24px\">\n",
              "    <g>\n",
              "        <path d=\"M19 3H5c-1.1 0-2 .9-2 2v14c0 1.1.9 2 2 2h14c1.1 0 2-.9 2-2V5c0-1.1-.9-2-2-2zM9 17H7v-7h2v7zm4 0h-2V7h2v10zm4 0h-2v-4h2v4z\"/>\n",
              "    </g>\n",
              "</svg>\n",
              "  </button>\n",
              "\n",
              "<style>\n",
              "  .colab-df-quickchart {\n",
              "      --bg-color: #E8F0FE;\n",
              "      --fill-color: #1967D2;\n",
              "      --hover-bg-color: #E2EBFA;\n",
              "      --hover-fill-color: #174EA6;\n",
              "      --disabled-fill-color: #AAA;\n",
              "      --disabled-bg-color: #DDD;\n",
              "  }\n",
              "\n",
              "  [theme=dark] .colab-df-quickchart {\n",
              "      --bg-color: #3B4455;\n",
              "      --fill-color: #D2E3FC;\n",
              "      --hover-bg-color: #434B5C;\n",
              "      --hover-fill-color: #FFFFFF;\n",
              "      --disabled-bg-color: #3B4455;\n",
              "      --disabled-fill-color: #666;\n",
              "  }\n",
              "\n",
              "  .colab-df-quickchart {\n",
              "    background-color: var(--bg-color);\n",
              "    border: none;\n",
              "    border-radius: 50%;\n",
              "    cursor: pointer;\n",
              "    display: none;\n",
              "    fill: var(--fill-color);\n",
              "    height: 32px;\n",
              "    padding: 0;\n",
              "    width: 32px;\n",
              "  }\n",
              "\n",
              "  .colab-df-quickchart:hover {\n",
              "    background-color: var(--hover-bg-color);\n",
              "    box-shadow: 0 1px 2px rgba(60, 64, 67, 0.3), 0 1px 3px 1px rgba(60, 64, 67, 0.15);\n",
              "    fill: var(--button-hover-fill-color);\n",
              "  }\n",
              "\n",
              "  .colab-df-quickchart-complete:disabled,\n",
              "  .colab-df-quickchart-complete:disabled:hover {\n",
              "    background-color: var(--disabled-bg-color);\n",
              "    fill: var(--disabled-fill-color);\n",
              "    box-shadow: none;\n",
              "  }\n",
              "\n",
              "  .colab-df-spinner {\n",
              "    border: 2px solid var(--fill-color);\n",
              "    border-color: transparent;\n",
              "    border-bottom-color: var(--fill-color);\n",
              "    animation:\n",
              "      spin 1s steps(1) infinite;\n",
              "  }\n",
              "\n",
              "  @keyframes spin {\n",
              "    0% {\n",
              "      border-color: transparent;\n",
              "      border-bottom-color: var(--fill-color);\n",
              "      border-left-color: var(--fill-color);\n",
              "    }\n",
              "    20% {\n",
              "      border-color: transparent;\n",
              "      border-left-color: var(--fill-color);\n",
              "      border-top-color: var(--fill-color);\n",
              "    }\n",
              "    30% {\n",
              "      border-color: transparent;\n",
              "      border-left-color: var(--fill-color);\n",
              "      border-top-color: var(--fill-color);\n",
              "      border-right-color: var(--fill-color);\n",
              "    }\n",
              "    40% {\n",
              "      border-color: transparent;\n",
              "      border-right-color: var(--fill-color);\n",
              "      border-top-color: var(--fill-color);\n",
              "    }\n",
              "    60% {\n",
              "      border-color: transparent;\n",
              "      border-right-color: var(--fill-color);\n",
              "    }\n",
              "    80% {\n",
              "      border-color: transparent;\n",
              "      border-right-color: var(--fill-color);\n",
              "      border-bottom-color: var(--fill-color);\n",
              "    }\n",
              "    90% {\n",
              "      border-color: transparent;\n",
              "      border-bottom-color: var(--fill-color);\n",
              "    }\n",
              "  }\n",
              "</style>\n",
              "\n",
              "  <script>\n",
              "    async function quickchart(key) {\n",
              "      const quickchartButtonEl =\n",
              "        document.querySelector('#' + key + ' button');\n",
              "      quickchartButtonEl.disabled = true;  // To prevent multiple clicks.\n",
              "      quickchartButtonEl.classList.add('colab-df-spinner');\n",
              "      try {\n",
              "        const charts = await google.colab.kernel.invokeFunction(\n",
              "            'suggestCharts', [key], {});\n",
              "      } catch (error) {\n",
              "        console.error('Error during call to suggestCharts:', error);\n",
              "      }\n",
              "      quickchartButtonEl.classList.remove('colab-df-spinner');\n",
              "      quickchartButtonEl.classList.add('colab-df-quickchart-complete');\n",
              "    }\n",
              "    (() => {\n",
              "      let quickchartButtonEl =\n",
              "        document.querySelector('#df-99601415-9ac3-4fcc-850e-61a531a6eee9 button');\n",
              "      quickchartButtonEl.style.display =\n",
              "        google.colab.kernel.accessAllowed ? 'block' : 'none';\n",
              "    })();\n",
              "  </script>\n",
              "</div>\n",
              "\n",
              "    </div>\n",
              "  </div>\n"
            ],
            "application/vnd.google.colaboratory.intrinsic+json": {
              "type": "dataframe",
              "variable_name": "data"
            }
          },
          "metadata": {},
          "execution_count": 82
        }
      ]
    },
    {
      "cell_type": "code",
      "source": [
        "X.head()"
      ],
      "metadata": {
        "colab": {
          "base_uri": "https://localhost:8080/",
          "height": 278
        },
        "id": "Z1gRYgJAU9iQ",
        "outputId": "7fa6445d-aa1b-43ae-a0a5-885a024715a8"
      },
      "execution_count": 83,
      "outputs": [
        {
          "output_type": "execute_result",
          "data": {
            "text/plain": [
              "      Year  SESAMUM YIELD (Kg per ha)  Maximum_average rainfall  \\\n",
              "2143  1990                     431.28                  204.0625   \n",
              "2144  1991                     306.41                  118.2625   \n",
              "2145  1992                     468.20                  155.3750   \n",
              "2146  1993                     362.61                  175.8000   \n",
              "2147  1994                     240.12                  227.3550   \n",
              "\n",
              "      Medium_average rainfall  Minimum_average rainfall  \\\n",
              "2143                  19.1275                   14.1775   \n",
              "2144                   3.0000                    2.1325   \n",
              "2145                   8.3750                    4.4950   \n",
              "2146                  21.3100                    2.8100   \n",
              "2147                  11.8775                    4.3250   \n",
              "\n",
              "      Maximum_average min temp  Medium_average min temp  \\\n",
              "2143                   23.5775                  20.5725   \n",
              "2144                   24.6100                  20.4375   \n",
              "2145                   24.8125                  20.6675   \n",
              "2146                   24.8050                  20.6200   \n",
              "2147                   24.1850                  19.8050   \n",
              "\n",
              "      Minimum_average min temp  Maximum_average max temp  \\\n",
              "2143                   16.3775                   38.0600   \n",
              "2144                   15.9250                   39.3175   \n",
              "2145                   15.9250                   39.5775   \n",
              "2146                   16.4425                   39.2250   \n",
              "2147                   16.2225                   39.0700   \n",
              "\n",
              "      Medium_average max temp  Minimum_average max temp  \n",
              "2143                  32.6350                   30.5775  \n",
              "2144                  32.5275                   30.9675  \n",
              "2145                  31.7375                   31.2175  \n",
              "2146                  32.4275                   30.8225  \n",
              "2147                  32.1900                   30.1975  "
            ],
            "text/html": [
              "\n",
              "  <div id=\"df-8b0ed837-f8ab-47b9-879a-6bbce15edfaa\" class=\"colab-df-container\">\n",
              "    <div>\n",
              "<style scoped>\n",
              "    .dataframe tbody tr th:only-of-type {\n",
              "        vertical-align: middle;\n",
              "    }\n",
              "\n",
              "    .dataframe tbody tr th {\n",
              "        vertical-align: top;\n",
              "    }\n",
              "\n",
              "    .dataframe thead th {\n",
              "        text-align: right;\n",
              "    }\n",
              "</style>\n",
              "<table border=\"1\" class=\"dataframe\">\n",
              "  <thead>\n",
              "    <tr style=\"text-align: right;\">\n",
              "      <th></th>\n",
              "      <th>Year</th>\n",
              "      <th>SESAMUM YIELD (Kg per ha)</th>\n",
              "      <th>Maximum_average rainfall</th>\n",
              "      <th>Medium_average rainfall</th>\n",
              "      <th>Minimum_average rainfall</th>\n",
              "      <th>Maximum_average min temp</th>\n",
              "      <th>Medium_average min temp</th>\n",
              "      <th>Minimum_average min temp</th>\n",
              "      <th>Maximum_average max temp</th>\n",
              "      <th>Medium_average max temp</th>\n",
              "      <th>Minimum_average max temp</th>\n",
              "    </tr>\n",
              "  </thead>\n",
              "  <tbody>\n",
              "    <tr>\n",
              "      <th>2143</th>\n",
              "      <td>1990</td>\n",
              "      <td>431.28</td>\n",
              "      <td>204.0625</td>\n",
              "      <td>19.1275</td>\n",
              "      <td>14.1775</td>\n",
              "      <td>23.5775</td>\n",
              "      <td>20.5725</td>\n",
              "      <td>16.3775</td>\n",
              "      <td>38.0600</td>\n",
              "      <td>32.6350</td>\n",
              "      <td>30.5775</td>\n",
              "    </tr>\n",
              "    <tr>\n",
              "      <th>2144</th>\n",
              "      <td>1991</td>\n",
              "      <td>306.41</td>\n",
              "      <td>118.2625</td>\n",
              "      <td>3.0000</td>\n",
              "      <td>2.1325</td>\n",
              "      <td>24.6100</td>\n",
              "      <td>20.4375</td>\n",
              "      <td>15.9250</td>\n",
              "      <td>39.3175</td>\n",
              "      <td>32.5275</td>\n",
              "      <td>30.9675</td>\n",
              "    </tr>\n",
              "    <tr>\n",
              "      <th>2145</th>\n",
              "      <td>1992</td>\n",
              "      <td>468.20</td>\n",
              "      <td>155.3750</td>\n",
              "      <td>8.3750</td>\n",
              "      <td>4.4950</td>\n",
              "      <td>24.8125</td>\n",
              "      <td>20.6675</td>\n",
              "      <td>15.9250</td>\n",
              "      <td>39.5775</td>\n",
              "      <td>31.7375</td>\n",
              "      <td>31.2175</td>\n",
              "    </tr>\n",
              "    <tr>\n",
              "      <th>2146</th>\n",
              "      <td>1993</td>\n",
              "      <td>362.61</td>\n",
              "      <td>175.8000</td>\n",
              "      <td>21.3100</td>\n",
              "      <td>2.8100</td>\n",
              "      <td>24.8050</td>\n",
              "      <td>20.6200</td>\n",
              "      <td>16.4425</td>\n",
              "      <td>39.2250</td>\n",
              "      <td>32.4275</td>\n",
              "      <td>30.8225</td>\n",
              "    </tr>\n",
              "    <tr>\n",
              "      <th>2147</th>\n",
              "      <td>1994</td>\n",
              "      <td>240.12</td>\n",
              "      <td>227.3550</td>\n",
              "      <td>11.8775</td>\n",
              "      <td>4.3250</td>\n",
              "      <td>24.1850</td>\n",
              "      <td>19.8050</td>\n",
              "      <td>16.2225</td>\n",
              "      <td>39.0700</td>\n",
              "      <td>32.1900</td>\n",
              "      <td>30.1975</td>\n",
              "    </tr>\n",
              "  </tbody>\n",
              "</table>\n",
              "</div>\n",
              "    <div class=\"colab-df-buttons\">\n",
              "\n",
              "  <div class=\"colab-df-container\">\n",
              "    <button class=\"colab-df-convert\" onclick=\"convertToInteractive('df-8b0ed837-f8ab-47b9-879a-6bbce15edfaa')\"\n",
              "            title=\"Convert this dataframe to an interactive table.\"\n",
              "            style=\"display:none;\">\n",
              "\n",
              "  <svg xmlns=\"http://www.w3.org/2000/svg\" height=\"24px\" viewBox=\"0 -960 960 960\">\n",
              "    <path d=\"M120-120v-720h720v720H120Zm60-500h600v-160H180v160Zm220 220h160v-160H400v160Zm0 220h160v-160H400v160ZM180-400h160v-160H180v160Zm440 0h160v-160H620v160ZM180-180h160v-160H180v160Zm440 0h160v-160H620v160Z\"/>\n",
              "  </svg>\n",
              "    </button>\n",
              "\n",
              "  <style>\n",
              "    .colab-df-container {\n",
              "      display:flex;\n",
              "      gap: 12px;\n",
              "    }\n",
              "\n",
              "    .colab-df-convert {\n",
              "      background-color: #E8F0FE;\n",
              "      border: none;\n",
              "      border-radius: 50%;\n",
              "      cursor: pointer;\n",
              "      display: none;\n",
              "      fill: #1967D2;\n",
              "      height: 32px;\n",
              "      padding: 0 0 0 0;\n",
              "      width: 32px;\n",
              "    }\n",
              "\n",
              "    .colab-df-convert:hover {\n",
              "      background-color: #E2EBFA;\n",
              "      box-shadow: 0px 1px 2px rgba(60, 64, 67, 0.3), 0px 1px 3px 1px rgba(60, 64, 67, 0.15);\n",
              "      fill: #174EA6;\n",
              "    }\n",
              "\n",
              "    .colab-df-buttons div {\n",
              "      margin-bottom: 4px;\n",
              "    }\n",
              "\n",
              "    [theme=dark] .colab-df-convert {\n",
              "      background-color: #3B4455;\n",
              "      fill: #D2E3FC;\n",
              "    }\n",
              "\n",
              "    [theme=dark] .colab-df-convert:hover {\n",
              "      background-color: #434B5C;\n",
              "      box-shadow: 0px 1px 3px 1px rgba(0, 0, 0, 0.15);\n",
              "      filter: drop-shadow(0px 1px 2px rgba(0, 0, 0, 0.3));\n",
              "      fill: #FFFFFF;\n",
              "    }\n",
              "  </style>\n",
              "\n",
              "    <script>\n",
              "      const buttonEl =\n",
              "        document.querySelector('#df-8b0ed837-f8ab-47b9-879a-6bbce15edfaa button.colab-df-convert');\n",
              "      buttonEl.style.display =\n",
              "        google.colab.kernel.accessAllowed ? 'block' : 'none';\n",
              "\n",
              "      async function convertToInteractive(key) {\n",
              "        const element = document.querySelector('#df-8b0ed837-f8ab-47b9-879a-6bbce15edfaa');\n",
              "        const dataTable =\n",
              "          await google.colab.kernel.invokeFunction('convertToInteractive',\n",
              "                                                    [key], {});\n",
              "        if (!dataTable) return;\n",
              "\n",
              "        const docLinkHtml = 'Like what you see? Visit the ' +\n",
              "          '<a target=\"_blank\" href=https://colab.research.google.com/notebooks/data_table.ipynb>data table notebook</a>'\n",
              "          + ' to learn more about interactive tables.';\n",
              "        element.innerHTML = '';\n",
              "        dataTable['output_type'] = 'display_data';\n",
              "        await google.colab.output.renderOutput(dataTable, element);\n",
              "        const docLink = document.createElement('div');\n",
              "        docLink.innerHTML = docLinkHtml;\n",
              "        element.appendChild(docLink);\n",
              "      }\n",
              "    </script>\n",
              "  </div>\n",
              "\n",
              "\n",
              "<div id=\"df-61e93707-5400-473c-b666-71f0afaa0096\">\n",
              "  <button class=\"colab-df-quickchart\" onclick=\"quickchart('df-61e93707-5400-473c-b666-71f0afaa0096')\"\n",
              "            title=\"Suggest charts\"\n",
              "            style=\"display:none;\">\n",
              "\n",
              "<svg xmlns=\"http://www.w3.org/2000/svg\" height=\"24px\"viewBox=\"0 0 24 24\"\n",
              "     width=\"24px\">\n",
              "    <g>\n",
              "        <path d=\"M19 3H5c-1.1 0-2 .9-2 2v14c0 1.1.9 2 2 2h14c1.1 0 2-.9 2-2V5c0-1.1-.9-2-2-2zM9 17H7v-7h2v7zm4 0h-2V7h2v10zm4 0h-2v-4h2v4z\"/>\n",
              "    </g>\n",
              "</svg>\n",
              "  </button>\n",
              "\n",
              "<style>\n",
              "  .colab-df-quickchart {\n",
              "      --bg-color: #E8F0FE;\n",
              "      --fill-color: #1967D2;\n",
              "      --hover-bg-color: #E2EBFA;\n",
              "      --hover-fill-color: #174EA6;\n",
              "      --disabled-fill-color: #AAA;\n",
              "      --disabled-bg-color: #DDD;\n",
              "  }\n",
              "\n",
              "  [theme=dark] .colab-df-quickchart {\n",
              "      --bg-color: #3B4455;\n",
              "      --fill-color: #D2E3FC;\n",
              "      --hover-bg-color: #434B5C;\n",
              "      --hover-fill-color: #FFFFFF;\n",
              "      --disabled-bg-color: #3B4455;\n",
              "      --disabled-fill-color: #666;\n",
              "  }\n",
              "\n",
              "  .colab-df-quickchart {\n",
              "    background-color: var(--bg-color);\n",
              "    border: none;\n",
              "    border-radius: 50%;\n",
              "    cursor: pointer;\n",
              "    display: none;\n",
              "    fill: var(--fill-color);\n",
              "    height: 32px;\n",
              "    padding: 0;\n",
              "    width: 32px;\n",
              "  }\n",
              "\n",
              "  .colab-df-quickchart:hover {\n",
              "    background-color: var(--hover-bg-color);\n",
              "    box-shadow: 0 1px 2px rgba(60, 64, 67, 0.3), 0 1px 3px 1px rgba(60, 64, 67, 0.15);\n",
              "    fill: var(--button-hover-fill-color);\n",
              "  }\n",
              "\n",
              "  .colab-df-quickchart-complete:disabled,\n",
              "  .colab-df-quickchart-complete:disabled:hover {\n",
              "    background-color: var(--disabled-bg-color);\n",
              "    fill: var(--disabled-fill-color);\n",
              "    box-shadow: none;\n",
              "  }\n",
              "\n",
              "  .colab-df-spinner {\n",
              "    border: 2px solid var(--fill-color);\n",
              "    border-color: transparent;\n",
              "    border-bottom-color: var(--fill-color);\n",
              "    animation:\n",
              "      spin 1s steps(1) infinite;\n",
              "  }\n",
              "\n",
              "  @keyframes spin {\n",
              "    0% {\n",
              "      border-color: transparent;\n",
              "      border-bottom-color: var(--fill-color);\n",
              "      border-left-color: var(--fill-color);\n",
              "    }\n",
              "    20% {\n",
              "      border-color: transparent;\n",
              "      border-left-color: var(--fill-color);\n",
              "      border-top-color: var(--fill-color);\n",
              "    }\n",
              "    30% {\n",
              "      border-color: transparent;\n",
              "      border-left-color: var(--fill-color);\n",
              "      border-top-color: var(--fill-color);\n",
              "      border-right-color: var(--fill-color);\n",
              "    }\n",
              "    40% {\n",
              "      border-color: transparent;\n",
              "      border-right-color: var(--fill-color);\n",
              "      border-top-color: var(--fill-color);\n",
              "    }\n",
              "    60% {\n",
              "      border-color: transparent;\n",
              "      border-right-color: var(--fill-color);\n",
              "    }\n",
              "    80% {\n",
              "      border-color: transparent;\n",
              "      border-right-color: var(--fill-color);\n",
              "      border-bottom-color: var(--fill-color);\n",
              "    }\n",
              "    90% {\n",
              "      border-color: transparent;\n",
              "      border-bottom-color: var(--fill-color);\n",
              "    }\n",
              "  }\n",
              "</style>\n",
              "\n",
              "  <script>\n",
              "    async function quickchart(key) {\n",
              "      const quickchartButtonEl =\n",
              "        document.querySelector('#' + key + ' button');\n",
              "      quickchartButtonEl.disabled = true;  // To prevent multiple clicks.\n",
              "      quickchartButtonEl.classList.add('colab-df-spinner');\n",
              "      try {\n",
              "        const charts = await google.colab.kernel.invokeFunction(\n",
              "            'suggestCharts', [key], {});\n",
              "      } catch (error) {\n",
              "        console.error('Error during call to suggestCharts:', error);\n",
              "      }\n",
              "      quickchartButtonEl.classList.remove('colab-df-spinner');\n",
              "      quickchartButtonEl.classList.add('colab-df-quickchart-complete');\n",
              "    }\n",
              "    (() => {\n",
              "      let quickchartButtonEl =\n",
              "        document.querySelector('#df-61e93707-5400-473c-b666-71f0afaa0096 button');\n",
              "      quickchartButtonEl.style.display =\n",
              "        google.colab.kernel.accessAllowed ? 'block' : 'none';\n",
              "    })();\n",
              "  </script>\n",
              "</div>\n",
              "\n",
              "    </div>\n",
              "  </div>\n"
            ],
            "application/vnd.google.colaboratory.intrinsic+json": {
              "type": "dataframe",
              "variable_name": "X",
              "summary": "{\n  \"name\": \"X\",\n  \"rows\": 26,\n  \"fields\": [\n    {\n      \"column\": \"Year\",\n      \"properties\": {\n        \"dtype\": \"number\",\n        \"std\": 7,\n        \"min\": 1990,\n        \"max\": 2015,\n        \"num_unique_values\": 26,\n        \"samples\": [\n          1998,\n          2006,\n          1990\n        ],\n        \"semantic_type\": \"\",\n        \"description\": \"\"\n      }\n    },\n    {\n      \"column\": \"SESAMUM YIELD (Kg per ha)\",\n      \"properties\": {\n        \"dtype\": \"number\",\n        \"std\": 83.38769786872734,\n        \"min\": 193.55,\n        \"max\": 542.86,\n        \"num_unique_values\": 26,\n        \"samples\": [\n          407.26,\n          371.21,\n          431.28\n        ],\n        \"semantic_type\": \"\",\n        \"description\": \"\"\n      }\n    },\n    {\n      \"column\": \"Maximum_average rainfall\",\n      \"properties\": {\n        \"dtype\": \"number\",\n        \"std\": 33.29244383258991,\n        \"min\": 109.695,\n        \"max\": 240.0075,\n        \"num_unique_values\": 26,\n        \"samples\": [\n          174.545,\n          240.0075,\n          204.0625\n        ],\n        \"semantic_type\": \"\",\n        \"description\": \"\"\n      }\n    },\n    {\n      \"column\": \"Medium_average rainfall\",\n      \"properties\": {\n        \"dtype\": \"number\",\n        \"std\": 10.914923229935454,\n        \"min\": 1.7125,\n        \"max\": 50.2325,\n        \"num_unique_values\": 26,\n        \"samples\": [\n          20.4725,\n          12.8325,\n          19.1275\n        ],\n        \"semantic_type\": \"\",\n        \"description\": \"\"\n      }\n    },\n    {\n      \"column\": \"Minimum_average rainfall\",\n      \"properties\": {\n        \"dtype\": \"number\",\n        \"std\": 4.606553659232096,\n        \"min\": 1.615,\n        \"max\": 22.26,\n        \"num_unique_values\": 26,\n        \"samples\": [\n          3.4225,\n          22.26,\n          14.1775\n        ],\n        \"semantic_type\": \"\",\n        \"description\": \"\"\n      }\n    },\n    {\n      \"column\": \"Maximum_average min temp\",\n      \"properties\": {\n        \"dtype\": \"number\",\n        \"std\": 0.5298964430760177,\n        \"min\": 23.545,\n        \"max\": 25.7,\n        \"num_unique_values\": 25,\n        \"samples\": [\n          25.1675,\n          23.905,\n          23.5775\n        ],\n        \"semantic_type\": \"\",\n        \"description\": \"\"\n      }\n    },\n    {\n      \"column\": \"Medium_average min temp\",\n      \"properties\": {\n        \"dtype\": \"number\",\n        \"std\": 0.43605620006529505,\n        \"min\": 19.805,\n        \"max\": 21.7325,\n        \"num_unique_values\": 26,\n        \"samples\": [\n          21.025,\n          20.58,\n          20.5725\n        ],\n        \"semantic_type\": \"\",\n        \"description\": \"\"\n      }\n    },\n    {\n      \"column\": \"Minimum_average min temp\",\n      \"properties\": {\n        \"dtype\": \"number\",\n        \"std\": 0.6651658555462808,\n        \"min\": 15.6375,\n        \"max\": 18.3575,\n        \"num_unique_values\": 23,\n        \"samples\": [\n          16.6925,\n          16.5025,\n          16.3775\n        ],\n        \"semantic_type\": \"\",\n        \"description\": \"\"\n      }\n    },\n    {\n      \"column\": \"Maximum_average max temp\",\n      \"properties\": {\n        \"dtype\": \"number\",\n        \"std\": 0.5625960174460481,\n        \"min\": 38.06,\n        \"max\": 40.6575,\n        \"num_unique_values\": 26,\n        \"samples\": [\n          40.0475,\n          38.86,\n          38.06\n        ],\n        \"semantic_type\": \"\",\n        \"description\": \"\"\n      }\n    },\n    {\n      \"column\": \"Medium_average max temp\",\n      \"properties\": {\n        \"dtype\": \"number\",\n        \"std\": 0.5514900532613017,\n        \"min\": 31.675,\n        \"max\": 34.205,\n        \"num_unique_values\": 23,\n        \"samples\": [\n          32.7275,\n          32.9975,\n          32.635\n        ],\n        \"semantic_type\": \"\",\n        \"description\": \"\"\n      }\n    },\n    {\n      \"column\": \"Minimum_average max temp\",\n      \"properties\": {\n        \"dtype\": \"number\",\n        \"std\": 0.5005957700580379,\n        \"min\": 30.1975,\n        \"max\": 32.6375,\n        \"num_unique_values\": 23,\n        \"samples\": [\n          30.945,\n          30.9575,\n          30.5775\n        ],\n        \"semantic_type\": \"\",\n        \"description\": \"\"\n      }\n    }\n  ]\n}"
            }
          },
          "metadata": {},
          "execution_count": 83
        }
      ]
    },
    {
      "cell_type": "code",
      "source": [
        "y"
      ],
      "metadata": {
        "colab": {
          "base_uri": "https://localhost:8080/"
        },
        "id": "C0wiDv2sVCzB",
        "outputId": "6f0d48ba-2a36-4acd-c849-83b9c5a8c6b5"
      },
      "execution_count": 84,
      "outputs": [
        {
          "output_type": "execute_result",
          "data": {
            "text/plain": [
              "2143     1144\n",
              "2144     1450\n",
              "2145     1125\n",
              "2146     1354\n",
              "2147     1642\n",
              "2148     1642\n",
              "2149     1666\n",
              "2150     2072\n",
              "2151     2007\n",
              "2152     2204\n",
              "2153     1998\n",
              "2154     1972\n",
              "2155     1957\n",
              "2156     1940\n",
              "2157     2000\n",
              "2158     1975\n",
              "2159     2090\n",
              "2160     2123\n",
              "2161     4073\n",
              "2162     4679\n",
              "2163        0\n",
              "2164        0\n",
              "2165     2641\n",
              "2166     9050\n",
              "2167    10052\n",
              "2168     6366\n",
              "Name: SEASMUM HARVEST PRICE (Rs per Quintal), dtype: int64"
            ]
          },
          "metadata": {},
          "execution_count": 84
        }
      ]
    },
    {
      "cell_type": "code",
      "execution_count": 85,
      "metadata": {
        "id": "7mRKihTjXbLt"
      },
      "outputs": [],
      "source": [
        "corelation=X.corr()"
      ]
    },
    {
      "cell_type": "code",
      "execution_count": 86,
      "metadata": {
        "colab": {
          "base_uri": "https://localhost:8080/",
          "height": 646
        },
        "id": "kS3WF-8ueCiI",
        "outputId": "ea4ceb19-4aba-4008-8d13-818707faedaf"
      },
      "outputs": [
        {
          "output_type": "execute_result",
          "data": {
            "text/plain": [
              "<Axes: >"
            ]
          },
          "metadata": {},
          "execution_count": 86
        },
        {
          "output_type": "display_data",
          "data": {
            "text/plain": [
              "<Figure size 640x480 with 2 Axes>"
            ],
            "image/png": "[encoded data removed]"
          },
          "metadata": {}
        }
      ],
      "source": [
        "import seaborn as sns\n",
        "sns.heatmap(corelation,cmap=\"coolwarm\")"
      ]
    },
    {
      "cell_type": "markdown",
      "source": [],
      "metadata": {
        "id": "y2JoqbRUV0mI"
      }
    },
    {
      "cell_type": "markdown",
      "source": [
        "###RANDOM FOREST REGRESSOR"
      ],
      "metadata": {
        "id": "4TLLjOyhV2h_"
      }
    },
    {
      "cell_type": "code",
      "execution_count": null,
      "metadata": {
        "id": "LExm1Zzbe65Q",
        "colab": {
          "base_uri": "https://localhost:8080/"
        },
        "outputId": "728eec1b-5553-452b-a942-5b5ec2fae17e"
      },
      "outputs": [
        {
          "output_type": "stream",
          "name": "stdout",
          "text": [
            "Root Mean Squared Error: 249.13541264407456\n"
          ]
        }
      ],
      "source": [
        "import pandas as pd\n",
        "from sklearn.model_selection import train_test_split\n",
        "from sklearn.ensemble import RandomForestRegressor\n",
        "from sklearn.metrics import mean_squared_error\n",
        "\n",
        "\n",
        "# Split the data into training and testing sets\n",
        "X_train, X_test, y_train, y_test = train_test_split(X, y, test_size=0.2, random_state=42)\n",
        "\n",
        "# Create and train the Random Forest model\n",
        "model = RandomForestRegressor(n_estimators=100, random_state=42)\n",
        "model.fit(X_train, y_train)\n",
        "\n",
        "# Make predictions on the test set\n",
        "y_pred = model.predict(X_test)\n",
        "\n",
        "# Evaluate the model\n",
        "rmse = mean_squared_error(y_test, y_pred)**0.5\n",
        "print(f'Root Mean Squared Error: {rmse}')\n",
        "\n",
        "# If you want to interpret feature importance:\n",
        "\n"
      ]
    },
    {
      "cell_type": "code",
      "source": [
        "from sklearn.model_selection import GridSearchCV\n",
        "\n",
        "# Define the parameter grid\n",
        "param_grid = {\n",
        "    'n_estimators': [50, 100, 150],\n",
        "    'max_depth': [None, 10, 20, 30],\n",
        "    'min_samples_split': [2, 5, 10],\n",
        "    'min_samples_leaf': [1, 2, 4]\n",
        "}\n",
        "\n",
        "# Create the Random Forest model\n",
        "model = RandomForestRegressor(random_state=42)\n",
        "\n",
        "# Instantiate GridSearchCV\n",
        "grid_search = GridSearchCV(model, param_grid, scoring='neg_mean_squared_error', cv=5)\n",
        "\n",
        "# Fit the model\n",
        "grid_search.fit(X_train, y_train)\n",
        "\n",
        "# Get the best hyperparameters\n",
        "best_params = grid_search.best_params_\n",
        "\n",
        "# Create a new model with the best hyperparameters\n",
        "best_model = RandomForestRegressor(random_state=42, **best_params)\n",
        "\n",
        "# Train the model\n",
        "best_model.fit(X_train, y_train)\n",
        "\n",
        "# Make predictions on the test set\n",
        "y_pred = best_model.predict(X_test)\n",
        "\n",
        "# Evaluate the model\n",
        "rmse = mean_squared_error(y_test, y_pred)**0.5\n",
        "print(f'Root Mean Squared Error: {rmse}')\n",
        "\n",
        "# If you want to interpret feature importance:\n",
        "importances = best_model.feature_importances_\n",
        "print(\"\\nFeature Importance:\")\n",
        "for feature, importance in zip(X, importances):\n",
        "    print(f\"{feature}: {importance}\")\n",
        "\n"
      ],
      "metadata": {
        "colab": {
          "base_uri": "https://localhost:8080/"
        },
        "id": "xcekuTDJYuUr",
        "outputId": "a7c70e5d-d17c-4622-ef20-41285925b087"
      },
      "execution_count": null,
      "outputs": [
        {
          "output_type": "stream",
          "name": "stdout",
          "text": [
            "Root Mean Squared Error: 216.40231740552105\n",
            "\n",
            "Feature Importance:\n",
            "Year: 0.899306475067915\n",
            "CHICKPEA YIELD (Kg per ha): 0.03707131305246271\n",
            "Maximum_average rainfall: 0.0020319414397192773\n",
            "Medium_average rainfall: 0.007445191348502401\n",
            "Minimum_average rainfall: 0.004501060315238073\n",
            "Maximum_average min temp: 0.0027092437977284402\n",
            "Medium_average min temp: 0.004928597825163461\n",
            "Minimum_average min temp: 0.013984531756229362\n",
            "Maximum_average max temp: 0.01448071630109322\n",
            "Medium_average max temp: 0.002566810490517925\n",
            "Minimum_average max temp: 0.01097411860543022\n"
          ]
        }
      ]
    },
    {
      "cell_type": "code",
      "source": [
        "import matplotlib.pyplot as plt\n",
        "\n",
        "# Assuming y_test contains the true prices and y_pred contains the predicted prices\n",
        "# y_test and y_pred should be NumPy arrays or Pandas Series\n",
        "\n",
        "# Scatter plot for true prices\n",
        "plt.plot(range(len(y_test)), y_test, label='True Price', marker='o', color='blue')\n",
        "\n",
        "# Scatter plot for predicted prices\n",
        "plt.plot(range(len(y_test)), y_pred, label='Predicted Price', marker='x', color='red')\n",
        "\n",
        "# Adding labels and title\n",
        "plt.xlabel('Sample Index')\n",
        "plt.ylabel('Price')\n",
        "plt.title('True Price vs Predicted Price')\n",
        "plt.legend()\n",
        "\n",
        "# Display the plot\n",
        "plt.show()\n"
      ],
      "metadata": {
        "colab": {
          "base_uri": "https://localhost:8080/",
          "height": 472
        },
        "id": "hJfGRheeJ4pR",
        "outputId": "53ba093f-73e3-4db8-b312-b446e42a7f2e"
      },
      "execution_count": null,
      "outputs": [
        {
          "output_type": "display_data",
          "data": {
            "text/plain": [
              "<Figure size 640x480 with 1 Axes>"
            ],
            "image/png": "[encoded data removed]"
          },
          "metadata": {}
        }
      ]
    },
    {
      "cell_type": "markdown",
      "source": [
        "###LASSO REGRESSION"
      ],
      "metadata": {
        "id": "FY9nFiY0V8dG"
      }
    },
    {
      "cell_type": "code",
      "source": [
        "# Import necessary libraries\n",
        "import numpy as np\n",
        "import pandas as pd\n",
        "from sklearn.model_selection import train_test_split\n",
        "from sklearn.linear_model import Lasso\n",
        "from sklearn.metrics import mean_squared_error\n",
        "from sklearn.preprocessing import StandardScaler\n",
        "\n",
        "\n",
        "# Split the data into training and testing sets\n",
        "X_train, X_test, y_train, y_test = train_test_split(X, y, test_size=0.2, random_state=42)\n",
        "\n",
        "# Standardize the features\n",
        "scaler = StandardScaler()\n",
        "X_train_scaled = scaler.fit_transform(X_train)\n",
        "X_test_scaled = scaler.transform(X_test)\n",
        "\n",
        "# Create and train the Lasso regression model\n",
        "alpha = 0.1  # L1 regularization parameter\n",
        "lasso_reg = Lasso(alpha=alpha)\n",
        "lasso_reg.fit(X_train_scaled, y_train)\n",
        "\n",
        "# Make predictions on the test set\n",
        "y_pred = lasso_reg.predict(X_test_scaled)\n",
        "\n",
        "# Evaluate the model\n",
        "mse = mean_squared_error(y_test, y_pred)**0.5\n",
        "print(f'Mean Squared Error: {mse}')\n",
        "\n",
        "# Print the coefficients\n",
        "print('Lasso Coefficients:')\n",
        "print(lasso_reg.coef_)\n"
      ],
      "metadata": {
        "colab": {
          "base_uri": "https://localhost:8080/"
        },
        "id": "YtcpnxQBV_2Y",
        "outputId": "f0a8d96b-3836-4d7a-dd9a-d6fd2f260930"
      },
      "execution_count": null,
      "outputs": [
        {
          "output_type": "stream",
          "name": "stdout",
          "text": [
            "Mean Squared Error: 925.0231617985922\n",
            "Lasso Coefficients:\n",
            "[ 1080.74437306    77.83679648    77.21946398   414.37795157\n",
            "  -430.75819174   715.06351326  -363.2301603    222.90374642\n",
            " -1170.15732968  -352.51031334   757.71737328]\n"
          ]
        }
      ]
    },
    {
      "cell_type": "code",
      "source": [
        "from sklearn.model_selection import GridSearchCV"
      ],
      "metadata": {
        "id": "FOa5WexsYylT"
      },
      "execution_count": null,
      "outputs": []
    },
    {
      "cell_type": "code",
      "source": [
        "\n",
        "from sklearn.pipeline import make_pipeline\n",
        "# Define a range of alpha values to search\n",
        "param_grid = {'lasso__alpha': [0.001, 0.01, 0.1, 1, 10]}\n",
        "\n",
        "# Create a pipeline with StandardScaler and Lasso\n",
        "lasso_pipeline = make_pipeline(StandardScaler(), Lasso())\n",
        "\n",
        "# Use GridSearchCV to find the best alpha\n",
        "grid_search = GridSearchCV(lasso_pipeline, param_grid, cv=5)\n",
        "grid_search.fit(X_train, y_train)\n",
        "\n",
        "# Get the best alpha from the grid search\n",
        "best_alpha = grid_search.best_params_['lasso__alpha']\n",
        "\n",
        "# Create a new Lasso model with the best alpha\n",
        "lasso_reg = Lasso(alpha=best_alpha)\n",
        "lasso_reg.fit(X_train, y_train)\n",
        "\n",
        "# Make predictions on the test set\n",
        "y_pred = lasso_reg.predict(X_test)\n",
        "mse = mean_squared_error(y_test, y_pred)**0.5\n",
        "print(f'Mean Squared Error: {mse}')\n"
      ],
      "metadata": {
        "colab": {
          "base_uri": "https://localhost:8080/"
        },
        "id": "Ojm32EUQfMc5",
        "outputId": "7d4546ac-6d1d-4b75-8fe9-5b85fad4ea3b"
      },
      "execution_count": null,
      "outputs": [
        {
          "output_type": "stream",
          "name": "stdout",
          "text": [
            "Mean Squared Error: 589.8546726052031\n"
          ]
        }
      ]
    },
    {
      "cell_type": "code",
      "source": [
        "y_test"
      ],
      "metadata": {
        "colab": {
          "base_uri": "https://localhost:8080/"
        },
        "id": "ubE9bnW5e2m9",
        "outputId": "df7243ff-36c2-452c-ba62-01387b698f19"
      },
      "execution_count": null,
      "outputs": [
        {
          "output_type": "execute_result",
          "data": {
            "text/plain": [
              "8      574\n",
              "16     780\n",
              "0      308\n",
              "24    1441\n",
              "11     678\n",
              "9      610\n",
              "Name: WHEAT HARVEST PRICE (Rs per Quintal), dtype: int64"
            ]
          },
          "metadata": {},
          "execution_count": 39
        }
      ]
    },
    {
      "cell_type": "code",
      "source": [
        "y_pred"
      ],
      "metadata": {
        "colab": {
          "base_uri": "https://localhost:8080/"
        },
        "id": "2BYTft_ae2qO",
        "outputId": "b5315ef0-4377-40e1-a5f5-8ca6b6e9742b"
      },
      "execution_count": null,
      "outputs": [
        {
          "output_type": "execute_result",
          "data": {
            "text/plain": [
              "array([ 663.08617107,  789.5837707 ,  158.11694844, 1340.17006301,\n",
              "        640.85422408,  614.61825342])"
            ]
          },
          "metadata": {},
          "execution_count": 40
        }
      ]
    },
    {
      "cell_type": "code",
      "source": [
        "mean_squared_error(y_pred,y_test)**0.5"
      ],
      "metadata": {
        "colab": {
          "base_uri": "https://localhost:8080/"
        },
        "id": "72z2ggcve-Vz",
        "outputId": "0cba25e2-bf06-4435-c1ac-14ccaf1a0f4f"
      },
      "execution_count": null,
      "outputs": [
        {
          "output_type": "execute_result",
          "data": {
            "text/plain": [
              "83.7266751677842"
            ]
          },
          "metadata": {},
          "execution_count": 41
        }
      ]
    },
    {
      "cell_type": "code",
      "source": [
        "import pandas as pd\n",
        "from sklearn.model_selection import train_test_split, GridSearchCV\n",
        "from sklearn.linear_model import Lasso\n",
        "from sklearn.preprocessing import StandardScaler\n",
        "from sklearn.pipeline import make_pipeline\n",
        "from sklearn.metrics import mean_squared_error\n",
        "import matplotlib.pyplot as plt\n",
        "\n",
        "\n",
        "    # Split the data into training and testing sets\n",
        "X_train, X_test, y_train, y_test = train_test_split(X, y, test_size=0.2, random_state=42)\n",
        "\n",
        "    # Create a pipeline with feature scaling and Lasso Regression\n",
        "model = make_pipeline(StandardScaler(), Lasso())\n",
        "\n",
        "    # Hyperparameter tuning with GridSearchCV\n",
        "param_grid = {'lasso__alpha': [0.001, 0.01, 0.1, 1, 10]}\n",
        "grid_search = GridSearchCV(model, param_grid, scoring='neg_mean_squared_error', cv=5)\n",
        "grid_search.fit(X_train, y_train)\n",
        "\n",
        "    # Get the best hyperparameters\n",
        "best_alpha = grid_search.best_params_['lasso__alpha']\n",
        "\n",
        "    # Set the best hyperparameters and retrain the model\n",
        "model.set_params(lasso__alpha=best_alpha)\n",
        "model.fit(X_train, y_train)\n",
        "\n",
        "    # Make predictions on the test set\n",
        "y_pred = model.predict(X_test)\n",
        "\n",
        "    # Evaluate the model\n",
        "rmse = mean_squared_error(y_test, y_pred)**0.5\n",
        "print(f'Root Mean Squared Error: {rmse}')\n",
        "\n",
        "    # Print the coefficients\n",
        "print('Lasso Coefficients:')\n",
        "print(model.named_steps['lasso'].coef_)\n",
        "\n",
        "\n",
        "\n"
      ],
      "metadata": {
        "colab": {
          "base_uri": "https://localhost:8080/"
        },
        "id": "Tq8SrtM5g1Ht",
        "outputId": "6360134a-caef-43a3-8dfb-1f183f8da1f7"
      },
      "execution_count": null,
      "outputs": [
        {
          "output_type": "stream",
          "name": "stdout",
          "text": [
            "Root Mean Squared Error: 612.1496906146857\n",
            "Lasso Coefficients:\n",
            "[ 967.60251194   19.39008995  163.76072236  308.2873889  -330.60554963\n",
            "  514.99804972 -137.68037238  117.3654804  -881.76823366 -205.9425284\n",
            "  547.69842225]\n"
          ]
        }
      ]
    },
    {
      "cell_type": "code",
      "source": [
        "import pandas as pd\n",
        "from sklearn.model_selection import train_test_split, RandomizedSearchCV\n",
        "from sklearn.linear_model import Lasso\n",
        "from sklearn.preprocessing import StandardScaler\n",
        "from sklearn.pipeline import Pipeline\n",
        "from sklearn.metrics import mean_squared_error\n",
        "import matplotlib.pyplot as plt\n",
        "from scipy.stats import uniform\n",
        "\n",
        "\n",
        "\n",
        "    # Split the data into training and testing sets\n",
        "X_train, X_test, y_train, y_test = train_test_split(X, y, test_size=0.2, random_state=42)\n",
        "\n",
        "    # Create a pipeline with feature scaling and Lasso Regression\n",
        "model = Pipeline([\n",
        "        ('scaler', StandardScaler()),\n",
        "        ('lasso', Lasso())\n",
        "    ])\n",
        "\n",
        "    # Hyperparameter tuning with RandomizedSearchCV\n",
        "param_dist = {'lasso__alpha': uniform(0.001, 10)}  # Using uniform distribution for alpha\n",
        "randomized_search = RandomizedSearchCV(model, param_distributions=param_dist, n_iter=100, scoring='neg_mean_squared_error', cv=5, random_state=42)\n",
        "randomized_search.fit(X_train, y_train)\n",
        "\n",
        "    # Get the best hyperparameters\n",
        "best_alpha = randomized_search.best_params_['lasso__alpha']\n",
        "\n",
        "    # Set the best hyperparameters and retrain the model\n",
        "model.set_params(lasso__alpha=best_alpha)\n",
        "model.fit(X_train, y_train)\n",
        "\n",
        "    # Make predictions on the test set\n",
        "y_pred = model.predict(X_test)\n",
        "\n",
        "    # Evaluate the model\n",
        "rmse = mean_squared_error(y_test, y_pred)**0.5\n",
        "print(f'Root Mean Squared Error: {rmse}')\n",
        "\n",
        "    # Print the coefficients\n",
        "print('Lasso Coefficients:')\n",
        "print(model.named_steps['lasso'].coef_)\n"
      ],
      "metadata": {
        "colab": {
          "base_uri": "https://localhost:8080/"
        },
        "id": "f0g61xSwhmKU",
        "outputId": "9b66a954-e5d2-44c0-ee9a-9754dfb6a1f5"
      },
      "execution_count": null,
      "outputs": [
        {
          "output_type": "stream",
          "name": "stdout",
          "text": [
            "Root Mean Squared Error: 212.3836456916641\n",
            "Lasso Coefficients:\n",
            "[ 989.94005929 -201.92862361   62.72558896   94.50212376 -131.38124345\n",
            "  282.97761795   -0.          154.12190992 -456.41057853 -146.80399209\n",
            "  216.59065685]\n"
          ]
        }
      ]
    },
    {
      "cell_type": "code",
      "source": [
        "import matplotlib.pyplot as plt\n",
        "\n",
        "# Assuming y_test contains the true prices and y_pred contains the predicted prices\n",
        "# y_test and y_pred should be NumPy arrays or Pandas Series\n",
        "\n",
        "# Scatter plot for true prices\n",
        "plt.plot(range(len(y_test)), y_test, label='True Price', marker='o', color='blue')\n",
        "\n",
        "# Scatter plot for predicted prices\n",
        "plt.plot(range(len(y_test)), y_pred, label='Predicted Price', marker='x', color='red')\n",
        "\n",
        "# Adding labels and title\n",
        "plt.xlabel('Sample Index')\n",
        "plt.ylabel('Price')\n",
        "plt.title('True Price vs Predicted Price')\n",
        "plt.legend()\n",
        "\n",
        "# Display the plot\n",
        "plt.show()\n"
      ],
      "metadata": {
        "colab": {
          "base_uri": "https://localhost:8080/",
          "height": 472
        },
        "id": "3kukcG12J-Tw",
        "outputId": "f0bcc870-ff94-49bc-d693-36e9926b9821"
      },
      "execution_count": null,
      "outputs": [
        {
          "output_type": "display_data",
          "data": {
            "text/plain": [
              "<Figure size 640x480 with 1 Axes>"
            ],
            "image/png": "[encoded data removed]"
          },
          "metadata": {}
        }
      ]
    },
    {
      "cell_type": "markdown",
      "source": [
        "###XGBoost\n"
      ],
      "metadata": {
        "id": "ITXElhT6W1BB"
      }
    },
    {
      "cell_type": "markdown",
      "source": [],
      "metadata": {
        "id": "xqCemkKdW07k"
      }
    },
    {
      "cell_type": "code",
      "source": [
        "import pandas as pd\n",
        "from sklearn.model_selection import train_test_split\n",
        "from sklearn.metrics import mean_squared_error\n",
        "import xgboost as xgb\n",
        "from sklearn.pipeline import Pipeline\n",
        "from sklearn.preprocessing import StandardScaler\n",
        "\n",
        "steps=[(\"scaling\",StandardScaler()),(\"xgb\", xgb.XGBRegressor(objective=\"reg:squarederror\", random_state=42))]\n",
        "pipe=Pipeline(steps)\n",
        "\n",
        "# Split the data into training and testing sets\n",
        "X_train, X_test, y_train, y_test = train_test_split(X, y, test_size=0.2, random_state=42)\n",
        "\n",
        "# Create and train the XGBoost model\n",
        "model = xgb.XGBRegressor(objective=\"reg:squarederror\", random_state=42)\n",
        "pipe.fit(X_train, y_train)\n",
        "model.fit(X_train, y_train)\n",
        "\n",
        "# Make predictions on the test set\n",
        "y_pred = pipe.predict(X_test)\n",
        "\n",
        "# Evaluate the model\n",
        "mse = mean_squared_error(y_test, y_pred)**0.5\n",
        "print(f'Mean Squared Error: {mse}')\n",
        "\n",
        "# If you want to interpret feature importance:\n",
        "importances = model.feature_importances_\n",
        "feature_names = X.columns\n",
        "\n",
        "feature_importance_df = pd.DataFrame({\"Feature\": feature_names, \"Importance\": importances})\n",
        "feature_importance_df = feature_importance_df.sort_values(by=\"Importance\", ascending=False)\n",
        "\n",
        "print(\"\\nFeature Importance:\")\n",
        "print(feature_importance_df)\n"
      ],
      "metadata": {
        "colab": {
          "base_uri": "https://localhost:8080/"
        },
        "id": "ZVLDdw6YWqck",
        "outputId": "4675df1a-a516-45de-c7f2-69a459537d62"
      },
      "execution_count": 87,
      "outputs": [
        {
          "output_type": "stream",
          "name": "stdout",
          "text": [
            "Mean Squared Error: 617.7310558010043\n",
            "\n",
            "Feature Importance:\n",
            "                      Feature    Importance\n",
            "0                        Year  4.676632e-01\n",
            "6     Medium_average min temp  2.740362e-01\n",
            "1   SESAMUM YIELD (Kg per ha)  1.599880e-01\n",
            "2    Maximum_average rainfall  5.123453e-02\n",
            "3     Medium_average rainfall  4.305048e-02\n",
            "8    Maximum_average max temp  1.455077e-03\n",
            "5    Maximum_average min temp  1.200096e-03\n",
            "4    Minimum_average rainfall  8.528972e-04\n",
            "7    Minimum_average min temp  5.189207e-04\n",
            "9     Medium_average max temp  5.174367e-07\n",
            "10   Minimum_average max temp  5.509035e-09\n"
          ]
        }
      ]
    },
    {
      "cell_type": "code",
      "source": [
        "pipe"
      ],
      "metadata": {
        "colab": {
          "base_uri": "https://localhost:8080/",
          "height": 125
        },
        "id": "VyNnCNUbTSwk",
        "outputId": "b066e010-fcaf-4847-85d2-66defcfd382f"
      },
      "execution_count": 75,
      "outputs": [
        {
          "output_type": "execute_result",
          "data": {
            "text/plain": [
              "Pipeline(steps=[('scaling', StandardScaler()),\n",
              "                ('xgb',\n",
              "                 XGBRegressor(base_score=None, booster=None, callbacks=None,\n",
              "                              colsample_bylevel=None, colsample_bynode=None,\n",
              "                              colsample_bytree=None, device=None,\n",
              "                              early_stopping_rounds=None,\n",
              "                              enable_categorical=False, eval_metric=None,\n",
              "                              feature_types=None, gamma=None, grow_policy=None,\n",
              "                              importance_type=None,\n",
              "                              interaction_constraints=None, learning_rate=None,\n",
              "                              max_bin=None, max_cat_threshold=None,\n",
              "                              max_cat_to_onehot=None, max_delta_step=None,\n",
              "                              max_depth=None, max_leaves=None,\n",
              "                              min_child_weight=None, missing=nan,\n",
              "                              monotone_constraints=None, multi_strategy=None,\n",
              "                              n_estimators=None, n_jobs=None,\n",
              "                              num_parallel_tree=None, random_state=42, ...))])"
            ],
            "text/html": [
              "<style>#sk-container-id-3 {color: black;background-color: white;}#sk-container-id-3 pre{padding: 0;}#sk-container-id-3 div.sk-toggleable {background-color: white;}#sk-container-id-3 label.sk-toggleable__label {cursor: pointer;display: block;width: 100%;margin-bottom: 0;padding: 0.3em;box-sizing: border-box;text-align: center;}#sk-container-id-3 label.sk-toggleable__label-arrow:before {content: \"▸\";float: left;margin-right: 0.25em;color: #696969;}#sk-container-id-3 label.sk-toggleable__label-arrow:hover:before {color: black;}#sk-container-id-3 div.sk-estimator:hover label.sk-toggleable__label-arrow:before {color: black;}#sk-container-id-3 div.sk-toggleable__content {max-height: 0;max-width: 0;overflow: hidden;text-align: left;background-color: #f0f8ff;}#sk-container-id-3 div.sk-toggleable__content pre {margin: 0.2em;color: black;border-radius: 0.25em;background-color: #f0f8ff;}#sk-container-id-3 input.sk-toggleable__control:checked~div.sk-toggleable__content {max-height: 200px;max-width: 100%;overflow: auto;}#sk-container-id-3 input.sk-toggleable__control:checked~label.sk-toggleable__label-arrow:before {content: \"▾\";}#sk-container-id-3 div.sk-estimator input.sk-toggleable__control:checked~label.sk-toggleable__label {background-color: #d4ebff;}#sk-container-id-3 div.sk-label input.sk-toggleable__control:checked~label.sk-toggleable__label {background-color: #d4ebff;}#sk-container-id-3 input.sk-hidden--visually {border: 0;clip: rect(1px 1px 1px 1px);clip: rect(1px, 1px, 1px, 1px);height: 1px;margin: -1px;overflow: hidden;padding: 0;position: absolute;width: 1px;}#sk-container-id-3 div.sk-estimator {font-family: monospace;background-color: #f0f8ff;border: 1px dotted black;border-radius: 0.25em;box-sizing: border-box;margin-bottom: 0.5em;}#sk-container-id-3 div.sk-estimator:hover {background-color: #d4ebff;}#sk-container-id-3 div.sk-parallel-item::after {content: \"\";width: 100%;border-bottom: 1px solid gray;flex-grow: 1;}#sk-container-id-3 div.sk-label:hover label.sk-toggleable__label {background-color: #d4ebff;}#sk-container-id-3 div.sk-serial::before {content: \"\";position: absolute;border-left: 1px solid gray;box-sizing: border-box;top: 0;bottom: 0;left: 50%;z-index: 0;}#sk-container-id-3 div.sk-serial {display: flex;flex-direction: column;align-items: center;background-color: white;padding-right: 0.2em;padding-left: 0.2em;position: relative;}#sk-container-id-3 div.sk-item {position: relative;z-index: 1;}#sk-container-id-3 div.sk-parallel {display: flex;align-items: stretch;justify-content: center;background-color: white;position: relative;}#sk-container-id-3 div.sk-item::before, #sk-container-id-3 div.sk-parallel-item::before {content: \"\";position: absolute;border-left: 1px solid gray;box-sizing: border-box;top: 0;bottom: 0;left: 50%;z-index: -1;}#sk-container-id-3 div.sk-parallel-item {display: flex;flex-direction: column;z-index: 1;position: relative;background-color: white;}#sk-container-id-3 div.sk-parallel-item:first-child::after {align-self: flex-end;width: 50%;}#sk-container-id-3 div.sk-parallel-item:last-child::after {align-self: flex-start;width: 50%;}#sk-container-id-3 div.sk-parallel-item:only-child::after {width: 0;}#sk-container-id-3 div.sk-dashed-wrapped {border: 1px dashed gray;margin: 0 0.4em 0.5em 0.4em;box-sizing: border-box;padding-bottom: 0.4em;background-color: white;}#sk-container-id-3 div.sk-label label {font-family: monospace;font-weight: bold;display: inline-block;line-height: 1.2em;}#sk-container-id-3 div.sk-label-container {text-align: center;}#sk-container-id-3 div.sk-container {/* jupyter's `normalize.less` sets `[hidden] { display: none; }` but bootstrap.min.css set `[hidden] { display: none !important; }` so we also need the `!important` here to be able to override the default hidden behavior on the sphinx rendered scikit-learn.org. See: https://github.com/scikit-learn/scikit-learn/issues/21755 */display: inline-block !important;position: relative;}#sk-container-id-3 div.sk-text-repr-fallback {display: none;}</style><div id=\"sk-container-id-3\" class=\"sk-top-container\"><div class=\"sk-text-repr-fallback\"><pre>Pipeline(steps=[(&#x27;scaling&#x27;, StandardScaler()),\n",
              "                (&#x27;xgb&#x27;,\n",
              "                 XGBRegressor(base_score=None, booster=None, callbacks=None,\n",
              "                              colsample_bylevel=None, colsample_bynode=None,\n",
              "                              colsample_bytree=None, device=None,\n",
              "                              early_stopping_rounds=None,\n",
              "                              enable_categorical=False, eval_metric=None,\n",
              "                              feature_types=None, gamma=None, grow_policy=None,\n",
              "                              importance_type=None,\n",
              "                              interaction_constraints=None, learning_rate=None,\n",
              "                              max_bin=None, max_cat_threshold=None,\n",
              "                              max_cat_to_onehot=None, max_delta_step=None,\n",
              "                              max_depth=None, max_leaves=None,\n",
              "                              min_child_weight=None, missing=nan,\n",
              "                              monotone_constraints=None, multi_strategy=None,\n",
              "                              n_estimators=None, n_jobs=None,\n",
              "                              num_parallel_tree=None, random_state=42, ...))])</pre><b>In a Jupyter environment, please rerun this cell to show the HTML representation or trust the notebook. <br />On GitHub, the HTML representation is unable to render, please try loading this page with nbviewer.org.</b></div><div class=\"sk-container\" hidden><div class=\"sk-item sk-dashed-wrapped\"><div class=\"sk-label-container\"><div class=\"sk-label sk-toggleable\"><input class=\"sk-toggleable__control sk-hidden--visually\" id=\"sk-estimator-id-7\" type=\"checkbox\" ><label for=\"sk-estimator-id-7\" class=\"sk-toggleable__label sk-toggleable__label-arrow\">Pipeline</label><div class=\"sk-toggleable__content\"><pre>Pipeline(steps=[(&#x27;scaling&#x27;, StandardScaler()),\n",
              "                (&#x27;xgb&#x27;,\n",
              "                 XGBRegressor(base_score=None, booster=None, callbacks=None,\n",
              "                              colsample_bylevel=None, colsample_bynode=None,\n",
              "                              colsample_bytree=None, device=None,\n",
              "                              early_stopping_rounds=None,\n",
              "                              enable_categorical=False, eval_metric=None,\n",
              "                              feature_types=None, gamma=None, grow_policy=None,\n",
              "                              importance_type=None,\n",
              "                              interaction_constraints=None, learning_rate=None,\n",
              "                              max_bin=None, max_cat_threshold=None,\n",
              "                              max_cat_to_onehot=None, max_delta_step=None,\n",
              "                              max_depth=None, max_leaves=None,\n",
              "                              min_child_weight=None, missing=nan,\n",
              "                              monotone_constraints=None, multi_strategy=None,\n",
              "                              n_estimators=None, n_jobs=None,\n",
              "                              num_parallel_tree=None, random_state=42, ...))])</pre></div></div></div><div class=\"sk-serial\"><div class=\"sk-item\"><div class=\"sk-estimator sk-toggleable\"><input class=\"sk-toggleable__control sk-hidden--visually\" id=\"sk-estimator-id-8\" type=\"checkbox\" ><label for=\"sk-estimator-id-8\" class=\"sk-toggleable__label sk-toggleable__label-arrow\">StandardScaler</label><div class=\"sk-toggleable__content\"><pre>StandardScaler()</pre></div></div></div><div class=\"sk-item\"><div class=\"sk-estimator sk-toggleable\"><input class=\"sk-toggleable__control sk-hidden--visually\" id=\"sk-estimator-id-9\" type=\"checkbox\" ><label for=\"sk-estimator-id-9\" class=\"sk-toggleable__label sk-toggleable__label-arrow\">XGBRegressor</label><div class=\"sk-toggleable__content\"><pre>XGBRegressor(base_score=None, booster=None, callbacks=None,\n",
              "             colsample_bylevel=None, colsample_bynode=None,\n",
              "             colsample_bytree=None, device=None, early_stopping_rounds=None,\n",
              "             enable_categorical=False, eval_metric=None, feature_types=None,\n",
              "             gamma=None, grow_policy=None, importance_type=None,\n",
              "             interaction_constraints=None, learning_rate=None, max_bin=None,\n",
              "             max_cat_threshold=None, max_cat_to_onehot=None,\n",
              "             max_delta_step=None, max_depth=None, max_leaves=None,\n",
              "             min_child_weight=None, missing=nan, monotone_constraints=None,\n",
              "             multi_strategy=None, n_estimators=None, n_jobs=None,\n",
              "             num_parallel_tree=None, random_state=42, ...)</pre></div></div></div></div></div></div></div>"
            ]
          },
          "metadata": {},
          "execution_count": 75
        }
      ]
    },
    {
      "cell_type": "code",
      "source": [
        "import pandas as pd\n",
        "from sklearn.model_selection import train_test_split\n",
        "from sklearn.metrics import mean_squared_error\n",
        "from sklearn.pipeline import Pipeline\n",
        "from sklearn.compose import ColumnTransformer\n",
        "from sklearn.impute import SimpleImputer\n",
        "from sklearn.preprocessing import StandardScaler\n",
        "import xgboost as xgb\n",
        "\n",
        "# Assuming X and y are your features and target variable\n",
        "\n",
        "# Split the data into training and testing sets\n",
        "X_train, X_test, y_train, y_test = train_test_split(X, y, test_size=0.2, random_state=45)\n",
        "\n",
        "# Define preprocessing steps\n",
        "numeric_features = X.columns  # Assuming all features are numeric\n",
        "numeric_transformer = Pipeline(steps=[\n",
        "    ('imputer', SimpleImputer(strategy='mean')),\n",
        "    ('scaler', StandardScaler())\n",
        "])\n",
        "\n",
        "# Combine preprocessing steps using ColumnTransformer\n",
        "preprocessor = ColumnTransformer(\n",
        "    transformers=[\n",
        "        ('num', numeric_transformer, numeric_features)\n",
        "    ])\n",
        "\n",
        "# Create a pipeline with preprocessing and the XGBoost model\n",
        "model = Pipeline(steps=[\n",
        "    ('preprocessor', preprocessor),\n",
        "    ('regressor', xgb.XGBRegressor(objective=\"reg:squarederror\", random_state=45))\n",
        "])\n",
        "\n",
        "# Train the model\n",
        "model.fit(X_train, y_train)\n",
        "\n",
        "# Make predictions on the test set\n",
        "y_pred = model.predict(X_test)\n",
        "\n",
        "# Evaluate the model\n",
        "mse = mean_squared_error(y_test, y_pred)**0.5\n",
        "print(f'Mean Squared Error: {mse}')\n",
        "\n",
        "# If you want to interpret feature importance:\n",
        "importances = model.named_steps['regressor'].feature_importances_\n",
        "feature_names = X.columns\n",
        "\n",
        "feature_importance_df = pd.DataFrame({\"Feature\": feature_names, \"Importance\": importances})\n",
        "feature_importance_df = feature_importance_df.sort_values(by=\"Importance\", ascending=False)\n",
        "\n",
        "print(\"\\nFeature Importance:\")\n",
        "print(feature_importance_df)\n"
      ],
      "metadata": {
        "colab": {
          "base_uri": "https://localhost:8080/"
        },
        "id": "GVcAKxWxMEIb",
        "outputId": "c65162c6-4421-4c20-98b9-e1314e45a38d"
      },
      "execution_count": 88,
      "outputs": [
        {
          "output_type": "stream",
          "name": "stdout",
          "text": [
            "Mean Squared Error: 3276.064927976257\n",
            "\n",
            "Feature Importance:\n",
            "                      Feature    Importance\n",
            "0                        Year  6.941362e-01\n",
            "1   SESAMUM YIELD (Kg per ha)  2.962230e-01\n",
            "6     Medium_average min temp  6.038941e-03\n",
            "2    Maximum_average rainfall  3.379193e-03\n",
            "5    Maximum_average min temp  1.584973e-04\n",
            "4    Minimum_average rainfall  6.393372e-05\n",
            "3     Medium_average rainfall  2.346354e-07\n",
            "10   Minimum_average max temp  2.683543e-08\n",
            "7    Minimum_average min temp  1.787591e-08\n",
            "9     Medium_average max temp  4.251300e-09\n",
            "8    Maximum_average max temp  1.553626e-11\n"
          ]
        }
      ]
    },
    {
      "cell_type": "code",
      "source": [
        "y_test"
      ],
      "metadata": {
        "colab": {
          "base_uri": "https://localhost:8080/"
        },
        "id": "FnK3WI2AZ5wu",
        "outputId": "94b29552-4017-43c4-fa71-4ce708fe7faa"
      },
      "execution_count": 89,
      "outputs": [
        {
          "output_type": "execute_result",
          "data": {
            "text/plain": [
              "2152    2204\n",
              "2165    2641\n",
              "2162    4679\n",
              "2155    1957\n",
              "2168    6366\n",
              "2166    9050\n",
              "Name: SEASMUM HARVEST PRICE (Rs per Quintal), dtype: int64"
            ]
          },
          "metadata": {},
          "execution_count": 89
        }
      ]
    },
    {
      "cell_type": "code",
      "source": [
        "y_pred"
      ],
      "metadata": {
        "colab": {
          "base_uri": "https://localhost:8080/"
        },
        "id": "-pFlCBUgZ8Wz",
        "outputId": "67542c51-b0c4-4bc4-8905-d17522fcd2c6"
      },
      "execution_count": 90,
      "outputs": [
        {
          "output_type": "execute_result",
          "data": {
            "text/plain": [
              "array([ 1974.7645,  2641.8088,  4072.9983,  2020.5447, 10051.997 ,\n",
              "        1951.7461], dtype=float32)"
            ]
          },
          "metadata": {},
          "execution_count": 90
        }
      ]
    },
    {
      "cell_type": "code",
      "source": [
        "import matplotlib.pyplot as plt\n",
        "\n",
        "# Assuming y_test contains the true prices and y_pred contains the predicted prices\n",
        "# y_test and y_pred should be NumPy arrays or Pandas Series\n",
        "\n",
        "# Scatter plot for true prices\n",
        "plt.plot(range(len(y_test)), y_test, label='True Price', marker='o', color='blue')\n",
        "\n",
        "# Scatter plot for predicted prices\n",
        "plt.plot(range(len(y_test)), y_pred, label='Predicted Price', marker='x', color='red')\n",
        "\n",
        "# Adding labels and title\n",
        "plt.xlabel('Sample Index')\n",
        "plt.ylabel('Price')\n",
        "plt.title('True Price vs Predicted Price')\n",
        "plt.legend()\n",
        "\n",
        "# Display the plot\n",
        "plt.show()\n",
        "\n"
      ],
      "metadata": {
        "id": "EI_mVa2We89V",
        "colab": {
          "base_uri": "https://localhost:8080/",
          "height": 472
        },
        "outputId": "ebb87022-3f25-4af3-af95-c804a7b3682a"
      },
      "execution_count": 91,
      "outputs": [
        {
          "output_type": "display_data",
          "data": {
            "text/plain": [
              "<Figure size 640x480 with 1 Axes>"
            ],
            "image/png": "[encoded data removed]"
          },
          "metadata": {}
        }
      ]
    },
    {
      "cell_type": "markdown",
      "source": [
        "###DECISION TREE\n"
      ],
      "metadata": {
        "id": "pziMNTVzXAti"
      }
    },
    {
      "cell_type": "code",
      "source": [
        "import pandas as pd\n",
        "from sklearn.model_selection import train_test_split\n",
        "from sklearn.tree import DecisionTreeRegressor, plot_tree\n",
        "from sklearn.metrics import mean_squared_error\n",
        "import matplotlib.pyplot as plt\n",
        "\n",
        "\n",
        "\n",
        "# Split the data into training and testing sets\n",
        "X_train, X_test, y_train, y_test = train_test_split(X, y, test_size=0.2, random_state=42)\n",
        "\n",
        "# Create and train the Decision Tree Regressor\n",
        "model = DecisionTreeRegressor(random_state=42)\n",
        "model.fit(X_train, y_train)\n",
        "\n",
        "# Make predictions on the test set\n",
        "y_pred = model.predict(X_test)\n",
        "\n",
        "# Evaluate the model\n",
        "rmse = mean_squared_error(y_test, y_pred)**0.5\n",
        "print(f'Root Mean Squared Error: {rmse}')\n",
        "tree=model.tree_\n",
        "print(tree)\n",
        "\n"
      ],
      "metadata": {
        "colab": {
          "base_uri": "https://localhost:8080/"
        },
        "id": "O_ivVvTAXDcN",
        "outputId": "c53fa2c0-082f-4171-ffcc-69a08a377a08"
      },
      "execution_count": 49,
      "outputs": [
        {
          "output_type": "stream",
          "name": "stdout",
          "text": [
            "Root Mean Squared Error: 1510.180287250499\n",
            "<sklearn.tree._tree.Tree object at 0x7b52a7ff6b10>\n"
          ]
        }
      ]
    },
    {
      "cell_type": "code",
      "source": [
        "import matplotlib.pyplot as plt\n",
        "\n",
        "# Assuming y_test contains the true prices and y_pred contains the predicted prices\n",
        "# y_test and y_pred should be NumPy arrays or Pandas Series\n",
        "\n",
        "# Scatter plot for true prices\n",
        "plt.plot(range(len(y_test)), y_test, label='True Price', marker='o', color='blue')\n",
        "\n",
        "# Scatter plot for predicted prices\n",
        "plt.plot(range(len(y_test)), y_pred, label='Predicted Price', marker='x', color='red')\n",
        "\n",
        "# Adding labels and title\n",
        "plt.xlabel('Sample Index')\n",
        "plt.ylabel('Price')\n",
        "plt.title('True Price vs Predicted Price')\n",
        "plt.legend()\n",
        "\n",
        "# Display the plot\n",
        "plt.show()\n"
      ],
      "metadata": {
        "id": "Ozy_FDZ2XoL1",
        "colab": {
          "base_uri": "https://localhost:8080/",
          "height": 472
        },
        "outputId": "c449ae31-ce58-4aa5-ff45-efe98de41845"
      },
      "execution_count": 50,
      "outputs": [
        {
          "output_type": "display_data",
          "data": {
            "text/plain": [
              "<Figure size 640x480 with 1 Axes>"
            ],
            "image/png": "[encoded data removed]"
          },
          "metadata": {}
        }
      ]
    },
    {
      "cell_type": "markdown",
      "source": [
        "###SUPPORT VECTOR\n",
        "REGRESSOR"
      ],
      "metadata": {
        "id": "lZHdk7KuqLRp"
      }
    },
    {
      "cell_type": "code",
      "source": [
        "# Import necessary libraries\n",
        "import numpy as np\n",
        "from sklearn.svm import SVR\n",
        "import matplotlib.pyplot as plt\n",
        "from sklearn.model_selection import train_test_split\n",
        "from sklearn.metrics import mean_squared_error\n",
        "\n",
        "# Generate some sample data\n",
        "# Split the data into training and testing sets\n",
        "X_train, X_test, y_train, y_test = train_test_split(X, y, test_size=0.2, random_state=42)\n",
        "\n",
        "# Create and train the Support Vector Regressor\n",
        "svr_model = SVR(kernel='linear', C=1.0)  # You can experiment with different kernels and parameters\n",
        "svr_model.fit(X_train, y_train.ravel())\n",
        "\n",
        "# Make predictions on the test set\n",
        "y_pred = svr_model.predict(X_test)\n",
        "\n",
        "# Evaluate the model\n",
        "mse = mean_squared_error(y_test, y_pred)**0.5\n",
        "print(f'Mean Squared Error: {mse}')\n",
        "\n"
      ],
      "metadata": {
        "colab": {
          "base_uri": "https://localhost:8080/"
        },
        "id": "h1VtMEEXqQ0t",
        "outputId": "eb435af8-386e-4a71-b538-00ab2b32e6da"
      },
      "execution_count": null,
      "outputs": [
        {
          "output_type": "stream",
          "name": "stdout",
          "text": [
            "Mean Squared Error: 106.0148460144509\n"
          ]
        }
      ]
    },
    {
      "cell_type": "code",
      "source": [
        "import matplotlib.pyplot as plt\n",
        "\n",
        "# Assuming y_test contains the true prices and y_pred contains the predicted prices\n",
        "# y_test and y_pred should be NumPy arrays or Pandas Series\n",
        "\n",
        "# Scatter plot for true prices\n",
        "plt.plot(range(len(y_test)), y_test, label='True Price', marker='o', color='blue')\n",
        "\n",
        "# Scatter plot for predicted prices\n",
        "plt.plot(range(len(y_test)), y_pred, label='Predicted Price', marker='x', color='red')\n",
        "\n",
        "# Adding labels and title\n",
        "plt.xlabel('Sample Index')\n",
        "plt.ylabel('Price')\n",
        "plt.title('True Price vs Predicted Price')\n",
        "plt.legend()\n",
        "\n",
        "# Display the plot\n",
        "plt.show()\n"
      ],
      "metadata": {
        "id": "7j2KQoFBszLV",
        "colab": {
          "base_uri": "https://localhost:8080/"
        },
        "outputId": "eb4e2e6c-ae8f-4085-e42a-e3138a371a36"
      },
      "execution_count": null,
      "outputs": [
        {
          "output_type": "display_data",
          "data": {
            "text/plain": [
              "<Figure size 640x480 with 1 Axes>"
            ],
            "image/png": "[encoded data removed]"
          },
          "metadata": {}
        }
      ]
    },
    {
      "cell_type": "code",
      "source": [],
      "metadata": {
        "id": "fLF8VirIKa4h"
      },
      "execution_count": null,
      "outputs": []
    }
  ],
  "metadata": {
    "colab": {
      "provenance": [],
      "collapsed_sections": [
        "4TLLjOyhV2h_",
        "FY9nFiY0V8dG",
        "ITXElhT6W1BB",
        "pziMNTVzXAti",
        "lZHdk7KuqLRp"
      ]
    },
    "kernelspec": {
      "display_name": "Python 3",
      "name": "python3"
    },
    "language_info": {
      "name": "python"
    }
  },
  "nbformat": 4,
  "nbformat_minor": 0
}